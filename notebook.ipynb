{
 "cells": [
  {
   "cell_type": "code",
   "execution_count": 1,
   "id": "427235de",
   "metadata": {},
   "outputs": [],
   "source": [
    "# Environment setup"
   ]
  },
  {
   "cell_type": "code",
   "execution_count": 2,
   "id": "49d4c6ab",
   "metadata": {},
   "outputs": [],
   "source": [
    "# Download required packages\n",
    "!pip install --upgrade pip > /dev/null 2>&1\n",
    "!pip install -r requirements.txt > /dev/null 2>&1"
   ]
  },
  {
   "cell_type": "code",
   "execution_count": 3,
   "id": "4f5f95f0",
   "metadata": {},
   "outputs": [],
   "source": [
    "# Import the os and dotenv modules to manage environment variables.\n",
    "import os\n",
    "import dotenv\n",
    "\n",
    "# Load environment variables from .env file\n",
    "dotenv.load_dotenv()\n",
    "\n",
    "# Set the OpenAI and Tavily API keys. (Make sure to create a .env file with these keys. Use the example.env file provided.)\n",
    "openai_api_key = os.getenv(\"OPENAI_API_KEY\")\n",
    "tavily_api_key = os.getenv(\"TAVILY_API_KEY\")\n",
    "\n",
    "# Check if the API keys are set\n",
    "if not openai_api_key or not tavily_api_key:\n",
    "\traise ValueError(\"API keys are missing. Please check your .env file.\")"
   ]
  },
  {
   "cell_type": "code",
   "execution_count": 4,
   "id": "c7ca30f3",
   "metadata": {},
   "outputs": [],
   "source": [
    "# Ingestion pipeline"
   ]
  },
  {
   "cell_type": "code",
   "execution_count": 5,
   "id": "6a694243",
   "metadata": {},
   "outputs": [
    {
     "name": "stderr",
     "output_type": "stream",
     "text": [
      "USER_AGENT environment variable not set, consider setting it to identify your requests.\n"
     ]
    }
   ],
   "source": [
    "# Load text splitter. This is used to split the text into smaller chunks for processing.\n",
    "from langchain.text_splitter import RecursiveCharacterTextSplitter\n",
    "\n",
    "# Load document loader. This is used to load documents from various sources.\n",
    "from langchain_community.document_loaders import WebBaseLoader\n",
    "\n",
    "# Load the vector store. This is used to store and retrieve vector embeddings.\n",
    "from langchain_community.vectorstores import Chroma\n",
    "\n",
    "# Load the OpenAI embeddings. This is used to convert text into vector embeddings.\n",
    "from langchain.embeddings import OpenAIEmbeddings"
   ]
  },
  {
   "cell_type": "code",
   "execution_count": 6,
   "id": "a7b4f98b",
   "metadata": {},
   "outputs": [
    {
     "name": "stderr",
     "output_type": "stream",
     "text": [
      "/tmp/ipykernel_736141/29917268.py:22: LangChainDeprecationWarning: The class `OpenAIEmbeddings` was deprecated in LangChain 0.0.9 and will be removed in 1.0. An updated version of the class exists in the :class:`~langchain-openai package and should be used instead. To use it run `pip install -U :class:`~langchain-openai` and import as `from :class:`~langchain_openai import OpenAIEmbeddings``.\n",
      "  embedding=OpenAIEmbeddings(),\n"
     ]
    }
   ],
   "source": [
    "# For this example we will use some substack articles. You can replace these with your own URLs.\n",
    "urls = [\n",
    "    \"https://ryanocm.substack.com/p/mystery-gift-box-049-law-1-fill-your\",\n",
    "    \"https://ryanocm.substack.com/p/105-the-bagel-method-in-relationships\",\n",
    "    \"https://ryanocm.substack.com/p/098-i-have-read-100-productivity\",\n",
    "]\n",
    "\n",
    "# Load the documents from the URLs\n",
    "docs = [WebBaseLoader(url).load() for url in urls]\n",
    "docs_list = [item for sublist in docs for item in sublist]\n",
    "\n",
    "# Split the documents into smaller chunks for processing\n",
    "text_splitter = RecursiveCharacterTextSplitter.from_tiktoken_encoder(\n",
    "    chunk_size=250, chunk_overlap=0\n",
    ")\n",
    "doc_splits = text_splitter.split_documents(docs_list)\n",
    "\n",
    "# Add the preprocessed documents to the vector store\n",
    "vectorstore = Chroma.from_documents(\n",
    "    documents=doc_splits,\n",
    "    collection_name=\"rag-chroma\",\n",
    "    embedding=OpenAIEmbeddings(),\n",
    ")\n",
    "\n",
    "# Create a retriever from the vector store\n",
    "retriever = vectorstore.as_retriever()"
   ]
  },
  {
   "cell_type": "code",
   "execution_count": 7,
   "id": "ec9db0e7",
   "metadata": {},
   "outputs": [],
   "source": [
    "# Generation pipeline"
   ]
  },
  {
   "cell_type": "code",
   "execution_count": 8,
   "id": "7b1441a4",
   "metadata": {},
   "outputs": [
    {
     "name": "stderr",
     "output_type": "stream",
     "text": [
      "/home/sean/CRAG_langgraph_DEMO/.venv/lib/python3.12/site-packages/langsmith/client.py:272: LangSmithMissingAPIKeyWarning: API key must be provided when using hosted LangSmith API\n",
      "  warnings.warn(\n"
     ]
    },
    {
     "name": "stdout",
     "output_type": "stream",
     "text": [
      "You are an assistant for question-answering tasks. Use the following pieces of retrieved context to answer the question. If you don't know the answer, just say that you don't know. Use three sentences maximum and keep the answer concise.\n",
      "Question: {question} \n",
      "Context: {context} \n",
      "Answer:\n"
     ]
    },
    {
     "name": "stderr",
     "output_type": "stream",
     "text": [
      "/tmp/ipykernel_736141/857616237.py:14: LangChainDeprecationWarning: The class `ChatOpenAI` was deprecated in LangChain 0.0.10 and will be removed in 1.0. An updated version of the class exists in the :class:`~langchain-openai package and should be used instead. To use it run `pip install -U :class:`~langchain-openai` and import as `from :class:`~langchain_openai import ChatOpenAI``.\n",
      "  rag_llm = ChatOpenAI(model_name=\"gpt-4o-mini\", temperature=0)\n"
     ]
    }
   ],
   "source": [
    "# Load the hub module to pull the RAG prompt template\n",
    "from langchain import hub\n",
    "\n",
    "# Load the output parser. This is used to format the output of the model.\n",
    "from langchain_core.output_parsers import StrOutputParser\n",
    "\n",
    "# Import ChatOpenAI for the LLM model\n",
    "from langchain.chat_models import ChatOpenAI\n",
    "\n",
    "# Pull the RAG prompt template from the hub. This template is used to generate the prompt for the model.\n",
    "rag_prompt = hub.pull(\"rlm/rag-prompt\")\n",
    "\n",
    "# Set the LLM model. This is the model that will generate the output based on the prompt and the retrieved documents.\n",
    "rag_llm = ChatOpenAI(model_name=\"gpt-4o-mini\", temperature=0)\n",
    "\n",
    "# Post-process the output of the model. This function formats the output of the retriever to be more readable to the generation model.\n",
    "def format_docs(docs):\n",
    "    return \"\\\\n\\\\n\".join(doc.page_content for doc in docs)\n",
    "\n",
    "# Define the RAG chain. This chain combines the prompt, the LLM, and the output parser to generate the final output.\n",
    "rag_chain = rag_prompt | rag_llm | StrOutputParser()\n",
    "\n",
    "# Print the prompt template to see how it is structured\n",
    "print(rag_prompt.messages[0].prompt.template)"
   ]
  },
  {
   "cell_type": "code",
   "execution_count": 9,
   "id": "4dae80c3",
   "metadata": {},
   "outputs": [],
   "source": [
    "# Demonstration of the uncorrected RAG chain"
   ]
  },
  {
   "cell_type": "code",
   "execution_count": 10,
   "id": "3ed44f96",
   "metadata": {},
   "outputs": [
    {
     "name": "stdout",
     "output_type": "stream",
     "text": [
      "Question: What is the bagel method?\n",
      "----\n",
      "Documents:\n",
      "\n",
      "- Mystery Gift Box #049 | Law 1: Fill your Five Buckets in the Right Order (The Diary of a CEO) The Limitless Playbook 🧬SubscribeSign inShare this postThe Limitless Playbook 🧬Mystery Gift Box #049 | Law 1: Fill your Five Buckets in the Right Order (The Diary of a CEO)Copy linkFacebookEmailNotesMoreMystery Gift Box #049 | Law 1: Fill your Five Buckets in the Right Order (The Diary of a CEO)The best hidden gems I've found; interesting ideas and concepts, thought-provoking questions, mind-blowing books/podcasts, cool animes/films, and other mysteries ❤️Ryan Ong, Ph.D. 🎮Sep 10, 2023Share this postThe Limitless Playbook 🧬Mystery Gift Box #049 | Law 1: Fill your Five Buckets in the Right Order (The Diary of a CEO)Copy linkFacebookEmailNotesMoreShareHey friends,Steven Bartlett’s new book The Diary of a CEO: The 33 Laws of Business and Life.I have been obsess with The Diary of a CEO podcast for the last few years. It’s one of my favourite podcasts and so when Steven Bartlett’s book came out this week, naturally I had to buy it and read it. Steven Bartlett shared his four pillars of greatness: the self, the story, the philosophy, and the team; of which each pillar consists of multiple laws.My original plan for this newsletter was to write about few of my favourite laws from the book but I realised this could be overwhelming and it would take away the spotlight for each law; and so I am just going to focus on one law and spread them out over the next few newsletter.🧠 Law 1: Fill your five buckets in the right orderDo you want to possess the power to do / build great things?Well, there are five buckets you need to fill:Knowledge SkillsNetworkResourcesReputationThe sum of your five buckets will determine your ability to do / build great things; these five buckets will determine to what extent can you change the world and move it towards your vision. These five buckets are connected and filling one helps fill another; generally speaking, they are filled in the order listed above, from knowledge to skills to network to resources to reputation.Focus on the first two buckets of knowledge and skills and the rest should handle themselves. Knowledge and skills are the foundation of which you build your life and career and it’s truly yours to own; you can lose your network, resources, and reputation but you will never lose your knowledge and skills.Never try to skip the first two buckets. If you try to jump straight to network, resources, and / or reputation bucket, you might “succeed” in the short-run but in the long run, your lack of knowledge and skill will catch on to you.There is no skipping the first two buckets of knowledge and skills if you’re playing long-term sustainable results. Any attempt to do so is equivalent to building your house on sand.💥 Key takeawayFocus on using your knowledge and skills to create lots of values in the world and the world will reward you with growing network (people will come to you), resources (people will pay for your services), and reputation (people will know what you are capable of).⛰ 4-4-4 Exploration ProjectEach month, I would explore one new thing; a skill, a subject, or an experience.January 2023: Writing and Storytelling (Subject) ✅February 2023: KURIOS – Cabinet of Curiosities (Cirque Du Soleil — Experience) ✅March 2023: 28 Days of Cold Exposure (Subject and Experience) ✅April 2023: Complete Growth / Product Marketing Course (Subject) 🟥May 2023: LL project (Skill + Subject) ✅June 2023: LL project 2 (Skill + Subject) ✅July 2023: LL project 3 (Skill + Subject) ✅August 2023: LL project 4 (Skill + Subject) ✅September 2023: LL project 5 (Skill + Subject) 🟧📚 This week, I finished reading…Have interesting gems you want to share with me and others? Share it by replying to this email and I will include it in the next gift box :)With love,Ryan O. 🎮😈 Connect with me on:🎬 YouTube, 🐦 Twitter, 👨🏻‍💻 LinkedIn, 🌍 Personal Website, and 📸 InstagramShare this postThe Limitless Playbook 🧬Mystery Gift Box #049 | Law 1: Fill your Five Buckets in the Right Order (The Diary of a CEO)Copy linkFacebookEmailNotesMoreSharePreviousNextDiscussion about this postCommentsRestacksTopLatestDiscussionsNo postsReady for more?Subscribe© 2025 Ryan Ong 🎮Privacy ∙ Terms ∙ Collection notice Start writingGet the appSubstack is the home for great cultureShareCopy linkFacebookEmailNotesMore This site requires JavaScript to run correctly. Please turn on JavaScript or unblock scripts\n",
      "- #105 | The Bagel Method in Relationships 🥯 The Limitless Playbook 🧬SubscribeSign inShare this postThe Limitless Playbook 🧬#105 | The Bagel Method in Relationships 🥯Copy linkFacebookEmailNotesMore#105 | The Bagel Method in Relationships 🥯A collection of the best hidden gems, mental models, and frameworks from the world’s top thinkers; to help you become 1% better and live a happier life ❤️Ryan Ong, Ph.D. 🎮Feb 25, 2024Share this postThe Limitless Playbook 🧬#105 | The Bagel Method in Relationships 🥯Copy linkFacebookEmailNotesMoreShareHello curious minds 🧠I recently finished the book Fight Right: How Successful Couples Turn Conflict into Connection and oh my days, I love every chapter of it!There were many repeating concepts but this time, it was applied in the context of conflicts in relationships. As usual with the Gottman’s books, I highlighted the hell out of the entire book 😄One of the cool exercises in the book was called The Bagel Method.The Bagel Method is designed to help partners be on the same team when dealing with differences and trying to find a compromise.The idea behind the method is that, to truly compromise, we need to figure out a way to include both partners’ dreams and core needs; things that are super important to us that giving up on them is too much.Let’s dive into the bagel 😜🚀 If you are new here…Hi, I’m Ryan 👋🏼 I am passionate about lifestyle gamification 🎮 and I am obsesssssssss with learning things that can help me live a happy and fulfilling life.And so, with The Limitless Playbook newsletter, I will share with you 1 actionable idea from the world's top thinkers every Sunday 🎯So visit us weekly for highly actionable insights :)…or even better, subscribe below and have all these information send straight to your inbox every Sunday 🥳Subscribe🥯 The Bagel MethodThe Bagel Method involves mapping out your core needs and areas of flexibility so that you and your partner understand what's important and where there's room for flexibility.It’s called The Bagel Method because, just like a bagel, it has both the inner and outer circles representing your needs.Here are the steps:In the inner circle, list all the aspects of an issue that you can’t give in on. These are your non-negotiables that are usually very closely related to your core needs and dreams.In the outer circle, list all the aspects of an issue that you are able to compromise on IF you are able to have what’s in your inner circle.Now, talk to your partners about your inner and outer circle. Ask each other:Why are the things in your inner circle so important to you?How can I support your core needs here?Tell me more about your areas of flexibility. What does it look like to be flexible?Compare both your “bagel” of needsWhat do we agree on?What feelings do we have in common?What shared goals do we have?How might we accomplish these goals together?Finalise the compromise (even if it’s a temporary one that needs to be reevaluate later)Fill in the sentence → A compromise that honors both our needs and dreams is…Flexibility is key when you can manage it. If all you do is say “No” to your partner, then it can make it difficult for your partner to feel safe and want to collaborate with you. Remember, compromise isn’t about perfection. Everyone gains and lose something. The important thing is to feel heard and work with your partner as a team.Enjoy this newsletter so far? Subscribe to receive new actionable ideas in your inbox every Sunday 🚀Subscribe📚 This week, I finished reading…2 books in progress 🤓Have interesting gems you want to share with me and others? Share it by replying to this email and I will include it in the next gift box :)With love,Ryan O. 🎮😈 Connect with me on:🎬 YouTube, 🐦 Twitter, 👨🏻‍💻 LinkedIn, 🌍 Personal Website, and 📸 InstagramShare this postThe Limitless Playbook 🧬#105 | The Bagel Method in Relationships 🥯Copy linkFacebookEmailNotesMoreSharePreviousNextDiscussion about this postCommentsRestacksTopLatestDiscussionsNo postsReady for more?Subscribe© 2025 Ryan Ong 🎮Privacy ∙ Terms ∙ Collection notice Start writingGet the appSubstack is the home for great cultureShareCopy linkFacebookEmailNotesMore This site requires JavaScript to run correctly. Please turn on JavaScript or unblock scripts\n",
      "- #098 | I have read 100+ productivity books. Here's how I plan my 2024 and stick to it 🚀 The Limitless Playbook 🧬SubscribeSign inShare this postThe Limitless Playbook 🧬#098 | I have read 100+ productivity books. Here's how I plan my 2024 and stick to it 🚀Copy linkFacebookEmailNotesMore#098 | I have read 100+ productivity books. Here's how I plan my 2024 and stick to it 🚀A collection of the best hidden gems, mental models, and frameworks from the world’s top thinkers; to help you become 1% better and live a happier life ❤️Ryan Ong, Ph.D. 🎮Jan 07, 20241Share this postThe Limitless Playbook 🧬#098 | I have read 100+ productivity books. Here's how I plan my 2024 and stick to it 🚀Copy linkFacebookEmailNotesMoreShareHey curious minds,First of all, happy new year :)I hope you have had a smooth start to the first week of 2024.Statistics show that around 80% of people fail to keep their New Year's resolutions by February.People struggle to stick to their new habits.Let’s change that 💥🚀 If you are new here…Hi, I’m Ryan 👋🏼 I am passionate about lifestyle gamification 🎮 and I am obsesssssssss with learning things that can help me live a happy and fulfilling life.And so, with The Limitless Playbook newsletter, I will share with you 1 actionable idea from the world's top thinkers every Sunday 🎯So visit us weekly for highly actionable insights :)…or even better, subscribe below and have all these information send straight to your inbox every Sunday 🥳Subscribe❌ 2 blockers why you fail to stick to the planIdentity — you don’t fully know your why and whoYou want to read 100 books this year… Why?You want to have abs and be shredded... Why?You want to stop drinking alcohol... Why?Behind every goal is someone (an identity) you want to become. Figure out that identity and new goals will become clearer, more personal, and more fun 🔥❌ You want to stop drinking because it’s healthy → generic✅ You want to stop drinking because you want to live longer and keep up with your kids → You want to be a good husband and a fatherConsistency — you know your why and who but you struggle to get started / keep it upThere are many micro reasons why people struggle to stick to their goals but here are three macro reasons why people fail to stay consistent:1. You are overwhelmed and uncomfortableSetting new year goals can be overwhelming and challenging. New things can feel unnatural… uncomfortable… and uncertain, all of which pushes us to quit.Here’s what I know → it’s hard to get started but once you have create momentum, it’s easy to keep going.But sadly, most people never got pass the initial starting phase.2. You are not setting goals properlyThere are three types of goals: Outcome, output, and input.Most people make two mistakes when setting goals: 1) they only set outcome / output goals and ignore the input goals, and 2) they set far away goals. For example, you might have the goal of reading 100 books in 2024.Reading 100 books is an outcome / output goal and the goal’s end date is 31st December 2024. Most people stop here.Don’t get me wrong… it’s a good start but the problem is a) you don’t know what you need to do to read 100 books, which brings me to b) you don’t know if you are on track to hit the goal, and c) it’s hard to create momentum since you only win once you hit the goal by the end of the year.In addition to outcome and output goals, you need to set checkpoints and input goals.3. You don’t have a daily action and value systemOnce you have set up the different types of goals, systems are important to help us stick to the action plan and make better decisions in day-to-day moments. Most of these systems can be learn through books, podcasts, newsletters, and others but the best system is through your own personal experience of testing and figure out what works best for you. I will share some action and value systems below that I have gathered over the years.✅ 2 things you can do to make 2024 your best yearIdentity — figure out the identity you want to become and its valuesThe best way I have found to do this is to find people that you admire or people that’s currently living the life you want to live and ask yourself what makes you attracted to them? What values do you admire of them?Study them deeply and create a list of values that resonate with you. Through that list of values, you should be able to figure out the identity you want to become.Abstract identity → Concrete daily actions and valuesIdentities are usually abstract… I want to be an adventurous person… Great.I want to be a lifelong learner... Great.I want to be a good partner… Great.The question is what does the day-to-day concrete actions for these identities look like?Here’s how I do it. FYI, I don’t set yearly goals, instead I focus on one quarter at a time; every quarter I will review everything and reset.1. List out all the areas in life that matter to you2. For each area in life, list out 1 - 3 OUTCOME / OUTPUT goals that align with your identity3. For each outcome / output goal, set 2 things: a) checkpoints and b) input goals4. Organise all your input goals into weekly, monthly, and quarterly.5. Take out your calendar and map out all the daily and weekly input goals6. Monitor your checkpoints at the end of each week to see if you are on track or not. If not, what changes should you make next week to get back on track.7. Repeat 1 - 6Here’s one of my goals for Q1 2024:Area: Character BuildingOne of the outcome / output goals: Read 15 non-fiction booksCheckpoint(s): Read around 1 - 2 non-fiction books per weekInput goal(s): Read an hour per dayCalendar view: I read 5:30am - 6:30am everyday. If this doesn’t happen, I will shift the reading block to another time in the dayWeekly reflection: How many books have I read this week? Any changes for next week?Enjoy this week’s newsletter? Subscribe to receive new ideas in your inbox every SundaySubscribe📚 This week, I finished reading…Have interesting gems you want to share with me and others? Share it by replying to this email and I will include it in the next gift box :)With love,Ryan O. 🎮😈 Connect with me on:🎬 YouTube, 🐦 Twitter, 👨🏻‍💻 LinkedIn, 🌍 Personal Website, and 📸 Instagram1Share this postThe Limitless Playbook 🧬#098 | I have read 100+ productivity books. Here's how I plan my 2024 and stick to it 🚀Copy linkFacebookEmailNotesMoreSharePreviousNextDiscussion about this postCommentsRestacksTopLatestDiscussionsNo postsReady for more?Subscribe© 2025 Ryan Ong 🎮Privacy ∙ Terms ∙ Collection notice Start writingGet the appSubstack is the home for great cultureShareCopy linkFacebookEmailNotesMore This site requires JavaScript to run correctly. Please turn on JavaScript or unblock scripts\n",
      "----\n",
      "Final answer: The Bagel Method is a conflict resolution technique designed for couples to find compromises by identifying core needs and areas of flexibility. It involves mapping out non-negotiables (inner circle) and aspects open to compromise (outer circle) to facilitate understanding and collaboration. This method emphasizes the importance of both partners' dreams and needs in reaching a mutually satisfying agreement.\n"
     ]
    }
   ],
   "source": [
    "# Load regex for cleaning documents in the output so we can see what documents were used in the generation of the response\n",
    "import re\n",
    "\n",
    "# We will use this function to clean the text of the documents before displaying them\n",
    "def clean_text(s):\n",
    "    # replace any run of whitespace (including newlines) with a single space\n",
    "    return re.sub(r'\\s+', ' ', s).strip()\n",
    "\n",
    "# Define the question to be answered\n",
    "question = \"What is the bagel method?\"\n",
    "\n",
    "# Generate the answer using the RAG chain\n",
    "generation = rag_chain.invoke({\"context\": docs, \"question\": question})\n",
    "\n",
    "# Print the question, the documents used, and the final answer\n",
    "print(\"Question: %s\" % question)\n",
    "print(\"----\")\n",
    "print(\"Documents:\\n\")\n",
    "print('\\n'.join(f\"- {clean_text(doc.page_content)}\" for doc in docs_list))\n",
    "print(\"----\")\n",
    "print(\"Final answer: %s\" % generation)"
   ]
  },
  {
   "cell_type": "code",
   "execution_count": 11,
   "id": "3c744908",
   "metadata": {},
   "outputs": [],
   "source": [
    "# Retrieval Evaluation Pipeline (The Corrective in CRAG)"
   ]
  },
  {
   "cell_type": "code",
   "execution_count": 12,
   "id": "7635d32d",
   "metadata": {},
   "outputs": [
    {
     "name": "stderr",
     "output_type": "stream",
     "text": [
      "/home/sean/CRAG_langgraph_DEMO/.venv/lib/python3.12/site-packages/IPython/core/interactiveshell.py:3670: LangChainDeprecationWarning: As of langchain-core 0.3.0, LangChain uses pydantic v2 internally. The langchain_core.pydantic_v1 module was a compatibility shim for pydantic v1, and should no longer be used. Please update the code to import from Pydantic directly.\n",
      "\n",
      "For example, replace imports like: `from langchain_core.pydantic_v1 import BaseModel`\n",
      "with: `from pydantic import BaseModel`\n",
      "or the v1 compatibility namespace if you are working in a code base that has not been fully upgraded to pydantic 2 yet. \tfrom pydantic.v1 import BaseModel\n",
      "\n",
      "  exec(code_obj, self.user_global_ns, self.user_ns)\n"
     ]
    }
   ],
   "source": [
    "# Load the chat prompt template. This is used to create the prompt for the model.\n",
    "from langchain_core.prompts import ChatPromptTemplate\n",
    "\n",
    "# Load the pydantic module for data validation\n",
    "from langchain_core.pydantic_v1 import BaseModel, Field\n",
    "\n",
    "# Load the openai module for the LLM model\n",
    "from langchain_openai import ChatOpenAI"
   ]
  },
  {
   "cell_type": "code",
   "execution_count": 13,
   "id": "39cc0d30",
   "metadata": {},
   "outputs": [
    {
     "name": "stderr",
     "output_type": "stream",
     "text": [
      "/home/sean/CRAG_langgraph_DEMO/.venv/lib/python3.12/site-packages/langchain_openai/chat_models/base.py:1632: UserWarning: Received a Pydantic BaseModel V1 schema. This is not supported by method=\"json_schema\". Please use method=\"function_calling\" or specify schema via JSON Schema or Pydantic V2 BaseModel. Overriding to method=\"function_calling\".\n",
      "  warnings.warn(\n"
     ]
    }
   ],
   "source": [
    "# Define the retrieval evaluator class (data model). This class is used to evaluate the relevance of the retrieved documents to the user's question.\n",
    "class RetrievalEvaluator(BaseModel):\n",
    "    \"\"\"Classify retrieved documents based on how relevant it is to the user's question.\"\"\"\n",
    "    binary_score: str = Field(\n",
    "        description=\"Documents are relevant to the question, 'yes' or 'no'\"\n",
    "    )\n",
    "\n",
    "# Load the LLM model for the retrieval evaluator. This model will be used to evaluate the relevance of the retrieved documents.\n",
    "retrieval_evaluator_llm = ChatOpenAI(model=\"gpt-4o-mini\", temperature=0)\n",
    "structured_llm_evaluator = retrieval_evaluator_llm.with_structured_output(RetrievalEvaluator) \n",
    "\n",
    "# Define the prompt for the retrieval evaluator. This prompt is used to guide the model in evaluating the relevance of the retrieved documents. \n",
    "# It is important to note that the prompt is designed to be clear and concise, providing the model with the necessary context to make an accurate \n",
    "# evaluation and output only a binary score.\n",
    "system = \"\"\"You are a document retrieval evaluator that's responsible for checking the relevancy of a retrieved document to the user's question. \\\\n \n",
    "    If the document contains keyword(s) or semantic meaning related to the question, grade it as relevant. \\\\n\n",
    "    Output a binary score 'yes' or 'no' to indicate whether the document is relevant to the question.\"\"\"\n",
    "\n",
    "# Create the prompt template for the retrieval evaluator\n",
    "retrieval_evaluator_prompt = ChatPromptTemplate.from_messages(\n",
    "    [\n",
    "        (\"system\", system),\n",
    "        (\"human\", \"Retrieved document: \\\\n\\\\n {document} \\\\n\\\\n User question: {question}\"),\n",
    "    ]\n",
    ")\n",
    "\n",
    "# Define the retrieval evaluator chain. This chain combines the prompt, the LLM, and the output parser to generate the final output.\n",
    "retrieval_grader = retrieval_evaluator_prompt | structured_llm_evaluator"
   ]
  },
  {
   "cell_type": "code",
   "execution_count": 14,
   "id": "e0964aa5",
   "metadata": {},
   "outputs": [],
   "source": [
    "# Next we will set up a question rewriter. This is used to rewrite the question in a way that is clearer and more specific. \n",
    "# This can help the model to better understand what the user is asking and to generate a more accurate response."
   ]
  },
  {
   "cell_type": "code",
   "execution_count": 15,
   "id": "deb97426",
   "metadata": {},
   "outputs": [],
   "source": [
    "# Load the model for the question rewriter\n",
    "question_rewriter_llm = ChatOpenAI(model=\"gpt-4o-mini\", temperature=0)\n",
    "\n",
    "# Define the prompt for the question rewriter. This prompt is used to guide the model in rewriting the question.\n",
    "system = \"\"\"You are a question re-writer that converts an input question to a better version that is optimized \\\\n \n",
    "     for web search. Look at the input and try to reason about the underlying semantic intent / meaning.\"\"\"\n",
    "\n",
    "# Create the prompt template for the question rewriter\n",
    "re_write_prompt = ChatPromptTemplate.from_messages(\n",
    "    [\n",
    "        (\"system\", system),\n",
    "        (\n",
    "            \"human\",\n",
    "            \"Here is the initial question: \\\\n\\\\n {question} \\\\n Formulate an improved question.\",\n",
    "        ),\n",
    "    ]\n",
    ")\n",
    "\n",
    "# Define the question rewriter chain. This chain combines the prompt, the LLM, and the output parser to generate the final output.\n",
    "question_rewriter = re_write_prompt | question_rewriter_llm | StrOutputParser()"
   ]
  },
  {
   "cell_type": "code",
   "execution_count": 16,
   "id": "6c6085c2",
   "metadata": {},
   "outputs": [],
   "source": [
    "# Initialize the Tavily web search tool. This tool will be used for ambiguious and incorrect document retrieval."
   ]
  },
  {
   "cell_type": "code",
   "execution_count": 17,
   "id": "8b6f5d6f",
   "metadata": {},
   "outputs": [],
   "source": [
    "# Load the Tavily web search tool. This tool is used to perform web searches and retrieve relevant documents.\n",
    "from langchain_community.tools.tavily_search import TavilySearchResults\n",
    "\n",
    "# Create an instance of the Tavily search tool. Here k is the number of search results to return.\n",
    "web_search_tool = TavilySearchResults(k=3)"
   ]
  },
  {
   "cell_type": "code",
   "execution_count": 18,
   "id": "8542fd07",
   "metadata": {},
   "outputs": [],
   "source": [
    "# LangGraph workflow:"
   ]
  },
  {
   "cell_type": "code",
   "execution_count": 19,
   "id": "79b8363c",
   "metadata": {},
   "outputs": [],
   "source": [
    "# Define the graph state. This state is used to keep track of variables and their values during the execution of the graph.\n",
    "from typing import List\n",
    "from typing_extensions import TypedDict\n",
    "class GraphState(TypedDict):\n",
    "    \"\"\"\n",
    "    Represents the state of our graph.\n",
    "    Attributes:\n",
    "        question: question\n",
    "        generation: LLM generation\n",
    "        web_search: whether to add search\n",
    "        documents: list of documents\n",
    "    \"\"\"\n",
    "    question: str\n",
    "    generation: str\n",
    "    web_search: str\n",
    "    documents: List[str]"
   ]
  },
  {
   "cell_type": "code",
   "execution_count": 20,
   "id": "736076ed",
   "metadata": {},
   "outputs": [],
   "source": [
    "# Define the function nodes. Each function node handles a specific task in the CRAG pipeline."
   ]
  },
  {
   "cell_type": "code",
   "execution_count": 21,
   "id": "8d8d2ddb",
   "metadata": {},
   "outputs": [],
   "source": [
    "# Retrieve function. This function retrieves documents from the vector store based on the user's question.\n",
    "from langchain.schema import Document\n",
    "def retrieve(state):\n",
    "    \"\"\"\n",
    "    Retrieve documents\n",
    "    Args:\n",
    "        state (dict): The current graph state\n",
    "    Returns:\n",
    "        state (dict): New key added to state, documents, that contains retrieved documents\n",
    "    \"\"\"\n",
    "    print(\"---RETRIEVE---\")\n",
    "    question = state[\"question\"]\n",
    "    # Retrieval\n",
    "    documents = retriever.get_relevant_documents(question)\n",
    "    return {\"documents\": documents, \"question\": question}"
   ]
  },
  {
   "cell_type": "code",
   "execution_count": 22,
   "id": "d45113fa",
   "metadata": {},
   "outputs": [],
   "source": [
    "# Generate function. This function generates an answer to the user's question based on the retrieved documents.\n",
    "def generate(state):\n",
    "    \"\"\"\n",
    "    Generate answer\n",
    "    Args:\n",
    "        state (dict): The current graph state\n",
    "    Returns:\n",
    "        state (dict): New key added to state, generation, that contains LLM generation\n",
    "    \"\"\"\n",
    "    print(\"---GENERATE---\")\n",
    "    question = state[\"question\"]\n",
    "    documents = state[\"documents\"]\n",
    "    # RAG generation\n",
    "    generation = rag_chain.invoke({\"context\": documents, \"question\": question})\n",
    "    return {\"documents\": documents, \"question\": question, \"generation\": generation}"
   ]
  },
  {
   "cell_type": "code",
   "execution_count": 23,
   "id": "ca135fae",
   "metadata": {},
   "outputs": [],
   "source": [
    "# Evaluate function. This function evaluates the relevance of the retrieved documents to the user's question.\n",
    "def evaluate_documents(state):\n",
    "    \"\"\"\n",
    "    Determines whether the retrieved documents are relevant to the question.\n",
    "    Args:\n",
    "        state (dict): The current graph state\n",
    "    Returns:\n",
    "        state (dict): Updates documents key with only filtered relevant documents\n",
    "    \"\"\"\n",
    "    print(\"---CHECK DOCUMENT RELEVANCE TO QUESTION---\")\n",
    "    question = state[\"question\"]\n",
    "    documents = state[\"documents\"]\n",
    "    # Score each doc\n",
    "    filtered_docs = []\n",
    "    web_search = \"No\"\n",
    "    for d in documents:\n",
    "        score = retrieval_grader.invoke(\n",
    "            {\"question\": question, \"document\": d.page_content}\n",
    "        )\n",
    "        grade = score.binary_score\n",
    "        if grade == \"yes\":\n",
    "            print(\"---GRADE: DOCUMENT RELEVANT---\")\n",
    "            filtered_docs.append(d)\n",
    "        else:\n",
    "            print(\"---GRADE: DOCUMENT NOT RELEVANT---\")\n",
    "            continue\n",
    "    if len(filtered_docs) / len(documents) <= 0.7:\n",
    "        web_search = \"Yes\"\n",
    "    return {\"documents\": filtered_docs, \"question\": question, \"web_search\": web_search}"
   ]
  },
  {
   "cell_type": "code",
   "execution_count": 24,
   "id": "f86e723b",
   "metadata": {},
   "outputs": [],
   "source": [
    "# Transform function. This function transforms the user's question into a more specific and clear version.\n",
    "def transform_query(state):\n",
    "    \"\"\"\n",
    "    Transform the query to produce a better question.\n",
    "    Args:\n",
    "        state (dict): The current graph state\n",
    "    Returns:\n",
    "        state (dict): Updates question key with a re-phrased question\n",
    "    \"\"\"\n",
    "    print(\"---TRANSFORM QUERY---\")\n",
    "    question = state[\"question\"]\n",
    "    documents = state[\"documents\"]\n",
    "    # Re-write question\n",
    "    better_question = question_rewriter.invoke({\"question\": question})\n",
    "    return {\"documents\": documents, \"question\": better_question}"
   ]
  },
  {
   "cell_type": "code",
   "execution_count": 25,
   "id": "81caa6f7",
   "metadata": {},
   "outputs": [],
   "source": [
    "# Web search function. This function performs a web search to find relevant documents based on the user's question.\n",
    "def web_search(state):\n",
    "    \"\"\"\n",
    "    Web search based on the re-phrased question.\n",
    "    Args:\n",
    "        state (dict): The current graph state\n",
    "    Returns:\n",
    "        state (dict): Updates documents key with appended web results\n",
    "    \"\"\"\n",
    "    print(\"---WEB SEARCH---\")\n",
    "    question = state[\"question\"]\n",
    "    documents = state[\"documents\"]\n",
    "    # Web search\n",
    "    docs = web_search_tool.invoke({\"query\": question})\n",
    "    web_results = \"\\\\n\".join([d[\"content\"] for d in docs])\n",
    "    web_results = Document(page_content=web_results)\n",
    "    documents.append(web_results)\n",
    "    return {\"documents\": documents, \"question\": question}"
   ]
  },
  {
   "cell_type": "code",
   "execution_count": 26,
   "id": "c4dcb917",
   "metadata": {},
   "outputs": [],
   "source": [
    "# Decide to generate function. This function decides whether to generate an answer based on the retrieved documents or to perform a web search.\n",
    "def decide_to_generate(state):\n",
    "    \"\"\"\n",
    "    Determines whether to generate an answer, or re-generate a question.\n",
    "    Args:\n",
    "        state (dict): The current graph state\n",
    "    Returns:\n",
    "        str: Binary decision for next node to call\n",
    "    \"\"\"\n",
    "    print(\"---ASSESS GRADED DOCUMENTS---\")\n",
    "    state[\"question\"]\n",
    "    web_search = state[\"web_search\"]\n",
    "    state[\"documents\"]\n",
    "    if web_search == \"Yes\":\n",
    "        # All documents have been filtered check_relevance\n",
    "        # We will re-generate a new query\n",
    "        print(\n",
    "            \"---DECISION: ALL DOCUMENTS ARE NOT RELEVANT TO QUESTION, TRANSFORM QUERY---\"\n",
    "        )\n",
    "        return \"transform_query\"\n",
    "    else:\n",
    "        # We have relevant documents, so generate answer\n",
    "        print(\"---DECISION: GENERATE---\")\n",
    "        return \"generate\""
   ]
  },
  {
   "cell_type": "code",
   "execution_count": 27,
   "id": "e38398b8",
   "metadata": {},
   "outputs": [],
   "source": [
    "# CRAG pipeline:"
   ]
  },
  {
   "cell_type": "code",
   "execution_count": 28,
   "id": "1805b4ae",
   "metadata": {},
   "outputs": [],
   "source": [
    "# Load the start, end, and state graph modules. These modules are used to define the structure of the CRAG pipeline.\n",
    "from langgraph.graph import END, StateGraph, START\n",
    "\n",
    "# Define the workflow for the CRAG pipeline. This workflow is a directed acyclic graph (DAG) that defines the sequence of tasks to be performed in the CRAG pipeline.\n",
    "workflow = StateGraph(GraphState)\n",
    "\n",
    "# Define the nodes (our function nodes) in the workflow. Each node represents a specific task in the CRAG pipeline.\n",
    "workflow.add_node(\"retrieve\", retrieve)  # retrieve\n",
    "workflow.add_node(\"grade_documents\", evaluate_documents)  # evaluate documents\n",
    "workflow.add_node(\"generate\", generate)  # generate\n",
    "workflow.add_node(\"transform_query\", transform_query)  # transform_query\n",
    "workflow.add_node(\"web_search_node\", web_search)  # web search\n",
    "\n",
    "# Build the graph by adding edges between the nodes. Each edge represents a transition from one task to another in the CRAG pipeline.\n",
    "# The first edge connects the start node to the retrieve node, indicating that the first task is to retrieve documents.\n",
    "workflow.add_edge(START, \"retrieve\")\n",
    "workflow.add_edge(\"retrieve\", \"grade_documents\")\n",
    "\n",
    "# Conditional edges based on the output of the evaluate_documents function. Conditional edges allow the workflow to branch based on the results of a task.\n",
    "workflow.add_conditional_edges(\n",
    "    \"grade_documents\",\n",
    "    decide_to_generate,\n",
    "    {\n",
    "        \"transform_query\": \"transform_query\",\n",
    "        \"generate\": \"generate\",\n",
    "    },\n",
    ")\n",
    "workflow.add_edge(\"transform_query\", \"web_search_node\")\n",
    "workflow.add_edge(\"web_search_node\", \"generate\")\n",
    "\n",
    "# The final edge connects the generate node to the end node, indicating that the last task is to generate an answer.\n",
    "workflow.add_edge(\"generate\", END)\n",
    "\n",
    "# Compile the workflow to create the executable application\n",
    "app = workflow.compile()"
   ]
  },
  {
   "cell_type": "code",
   "execution_count": 29,
   "id": "d265ebce",
   "metadata": {},
   "outputs": [
    {
     "data": {
      "image/png": "[encoded data removed]",
      "text/plain": [
       "<IPython.core.display.Image object>"
      ]
     },
     "metadata": {},
     "output_type": "display_data"
    }
   ],
   "source": [
    "# Optional: Create a mermaid diagram of the workflow. This diagram provides a visual representation of the CRAG pipeline and its tasks.\n",
    "\n",
    "# Load the mermaid module for creating diagrams.\n",
    "from IPython.display import Image, display\n",
    "\n",
    "# Create a mermaid diagram of the workflow and display it.\n",
    "try:\n",
    "    display(Image(app.get_graph(xray=True).draw_mermaid_png()))\n",
    "except Exception:\n",
    "    # This requires some extra dependencies and is optional\n",
    "    pass"
   ]
  },
  {
   "cell_type": "code",
   "execution_count": null,
   "id": "18eeeb93",
   "metadata": {},
   "outputs": [],
   "source": [
    "# Test the CRAG pipeline with a sample question. This test demonstrates how the CRAG pipeline works and how it generates an answer based on the user's question."
   ]
  },
  {
   "cell_type": "code",
   "execution_count": 30,
   "id": "84ffc300",
   "metadata": {},
   "outputs": [
    {
     "name": "stdout",
     "output_type": "stream",
     "text": [
      "---RETRIEVE---\n"
     ]
    },
    {
     "name": "stderr",
     "output_type": "stream",
     "text": [
      "/tmp/ipykernel_736141/3253477854.py:14: LangChainDeprecationWarning: The method `BaseRetriever.get_relevant_documents` was deprecated in langchain-core 0.1.46 and will be removed in 1.0. Use :meth:`~invoke` instead.\n",
      "  documents = retriever.get_relevant_documents(question)\n"
     ]
    },
    {
     "name": "stdout",
     "output_type": "stream",
     "text": [
      "\"Node 'retrieve':\"\n",
      "{ 'documents': [ Document(metadata={'language': 'en', 'description': 'A collection of the best hidden gems, mental models, and frameworks from the world’s top thinkers; to help you become 1% better and live a happier life ❤️', 'title': '#105 | The Bagel Method in Relationships 🥯', 'source': 'https://ryanocm.substack.com/p/105-the-bagel-method-in-relationships'}, page_content='#105 | The Bagel Method in Relationships 🥯'),\n",
      "                 Document(metadata={'title': '#105 | The Bagel Method in Relationships 🥯', 'source': 'https://ryanocm.substack.com/p/105-the-bagel-method-in-relationships', 'language': 'en', 'description': 'A collection of the best hidden gems, mental models, and frameworks from the world’s top thinkers; to help you become 1% better and live a happier life ❤️'}, page_content='The Limitless Playbook 🧬SubscribeSign inShare this postThe Limitless Playbook 🧬#105 | The Bagel Method in Relationships 🥯Copy linkFacebookEmailNotesMore#105 | The Bagel Method in Relationships 🥯A collection of the best hidden gems, mental models, and frameworks from the world’s top thinkers; to help you become 1% better and live a happier life ❤️Ryan Ong, Ph.D. 🎮Feb 25, 2024Share this postThe Limitless Playbook 🧬#105 | The Bagel Method in Relationships 🥯Copy linkFacebookEmailNotesMoreShareHello curious minds 🧠I recently finished the book Fight Right: How Successful Couples Turn Conflict into Connection and oh my days, I love every chapter of it!There were many repeating concepts but this time, it was applied in the context of conflicts in relationships. As usual with the Gottman’s books, I highlighted the hell out of the entire book 😄One of the cool exercises in the book was called The Bagel Method.The Bagel Method is designed to help partners be on the same team when dealing with differences and trying to'),\n",
      "                 Document(metadata={'language': 'en', 'source': 'https://ryanocm.substack.com/p/105-the-bagel-method-in-relationships', 'title': '#105 | The Bagel Method in Relationships 🥯', 'description': 'A collection of the best hidden gems, mental models, and frameworks from the world’s top thinkers; to help you become 1% better and live a happier life ❤️'}, page_content=\"find a compromise.The idea behind the method is that, to truly compromise, we need to figure out a way to include both partners’ dreams and core needs; things that are super important to us that giving up on them is too much.Let’s dive into the bagel 😜🚀 If you are new here…Hi, I’m Ryan 👋🏼 I am passionate about lifestyle gamification 🎮 and I am obsesssssssss with learning things that can help me live a happy and fulfilling life.And so, with The Limitless Playbook newsletter, I will share with you 1 actionable idea from the world's top thinkers every Sunday 🎯So visit us weekly for highly actionable insights :)…or even better, subscribe below and have all these information send straight to your inbox every Sunday 🥳Subscribe🥯 The Bagel MethodThe Bagel Method involves mapping out your core needs and areas of flexibility so that you and your partner understand what's important and where there's room for flexibility.It’s called The Bagel Method because, just like a bagel, it has both the inner and outer circles representing your needs.Here are the\"),\n",
      "                 Document(metadata={'source': 'https://ryanocm.substack.com/p/105-the-bagel-method-in-relationships', 'title': '#105 | The Bagel Method in Relationships 🥯', 'description': 'A collection of the best hidden gems, mental models, and frameworks from the world’s top thinkers; to help you become 1% better and live a happier life ❤️', 'language': 'en'}, page_content='feel safe and want to collaborate with you. Remember, compromise isn’t about perfection. Everyone gains and lose something. The important thing is to feel heard and work with your partner as a team.Enjoy this newsletter so far? Subscribe to receive new actionable ideas in your inbox every Sunday 🚀Subscribe📚 This week, I finished reading…2 books in progress 🤓Have interesting gems you want to share with me and others? Share it by replying to this email and I will include it in the next gift box :)With love,Ryan O. 🎮😈\\xa0Connect with me on:🎬\\xa0YouTube, 🐦\\xa0Twitter, 👨🏻\\u200d💻\\xa0LinkedIn, 🌍\\xa0Personal Website, and 📸\\xa0InstagramShare this postThe Limitless Playbook 🧬#105 | The Bagel Method in Relationships 🥯Copy linkFacebookEmailNotesMoreSharePreviousNextDiscussion about this postCommentsRestacksTopLatestDiscussionsNo postsReady for more?Subscribe© 2025 Ryan Ong 🎮Privacy ∙ Terms ∙ Collection notice Start writingGet the appSubstack is the home for great cultureShareCopy')],\n",
      "  'question': \"What's the bagel method?\"}\n",
      "'\\\\n---\\\\n'\n",
      "---CHECK DOCUMENT RELEVANCE TO QUESTION---\n",
      "---GRADE: DOCUMENT RELEVANT---\n",
      "---GRADE: DOCUMENT RELEVANT---\n",
      "---GRADE: DOCUMENT RELEVANT---\n",
      "---GRADE: DOCUMENT NOT RELEVANT---\n",
      "---ASSESS GRADED DOCUMENTS---\n",
      "---DECISION: GENERATE---\n",
      "\"Node 'grade_documents':\"\n",
      "{ 'documents': [ Document(metadata={'language': 'en', 'description': 'A collection of the best hidden gems, mental models, and frameworks from the world’s top thinkers; to help you become 1% better and live a happier life ❤️', 'title': '#105 | The Bagel Method in Relationships 🥯', 'source': 'https://ryanocm.substack.com/p/105-the-bagel-method-in-relationships'}, page_content='#105 | The Bagel Method in Relationships 🥯'),\n",
      "                 Document(metadata={'title': '#105 | The Bagel Method in Relationships 🥯', 'source': 'https://ryanocm.substack.com/p/105-the-bagel-method-in-relationships', 'language': 'en', 'description': 'A collection of the best hidden gems, mental models, and frameworks from the world’s top thinkers; to help you become 1% better and live a happier life ❤️'}, page_content='The Limitless Playbook 🧬SubscribeSign inShare this postThe Limitless Playbook 🧬#105 | The Bagel Method in Relationships 🥯Copy linkFacebookEmailNotesMore#105 | The Bagel Method in Relationships 🥯A collection of the best hidden gems, mental models, and frameworks from the world’s top thinkers; to help you become 1% better and live a happier life ❤️Ryan Ong, Ph.D. 🎮Feb 25, 2024Share this postThe Limitless Playbook 🧬#105 | The Bagel Method in Relationships 🥯Copy linkFacebookEmailNotesMoreShareHello curious minds 🧠I recently finished the book Fight Right: How Successful Couples Turn Conflict into Connection and oh my days, I love every chapter of it!There were many repeating concepts but this time, it was applied in the context of conflicts in relationships. As usual with the Gottman’s books, I highlighted the hell out of the entire book 😄One of the cool exercises in the book was called The Bagel Method.The Bagel Method is designed to help partners be on the same team when dealing with differences and trying to'),\n",
      "                 Document(metadata={'language': 'en', 'source': 'https://ryanocm.substack.com/p/105-the-bagel-method-in-relationships', 'title': '#105 | The Bagel Method in Relationships 🥯', 'description': 'A collection of the best hidden gems, mental models, and frameworks from the world’s top thinkers; to help you become 1% better and live a happier life ❤️'}, page_content=\"find a compromise.The idea behind the method is that, to truly compromise, we need to figure out a way to include both partners’ dreams and core needs; things that are super important to us that giving up on them is too much.Let’s dive into the bagel 😜🚀 If you are new here…Hi, I’m Ryan 👋🏼 I am passionate about lifestyle gamification 🎮 and I am obsesssssssss with learning things that can help me live a happy and fulfilling life.And so, with The Limitless Playbook newsletter, I will share with you 1 actionable idea from the world's top thinkers every Sunday 🎯So visit us weekly for highly actionable insights :)…or even better, subscribe below and have all these information send straight to your inbox every Sunday 🥳Subscribe🥯 The Bagel MethodThe Bagel Method involves mapping out your core needs and areas of flexibility so that you and your partner understand what's important and where there's room for flexibility.It’s called The Bagel Method because, just like a bagel, it has both the inner and outer circles representing your needs.Here are the\")],\n",
      "  'question': \"What's the bagel method?\",\n",
      "  'web_search': 'No'}\n",
      "'\\\\n---\\\\n'\n",
      "---GENERATE---\n",
      "\"Node 'generate':\"\n",
      "{ 'documents': [ Document(metadata={'language': 'en', 'description': 'A collection of the best hidden gems, mental models, and frameworks from the world’s top thinkers; to help you become 1% better and live a happier life ❤️', 'title': '#105 | The Bagel Method in Relationships 🥯', 'source': 'https://ryanocm.substack.com/p/105-the-bagel-method-in-relationships'}, page_content='#105 | The Bagel Method in Relationships 🥯'),\n",
      "                 Document(metadata={'title': '#105 | The Bagel Method in Relationships 🥯', 'source': 'https://ryanocm.substack.com/p/105-the-bagel-method-in-relationships', 'language': 'en', 'description': 'A collection of the best hidden gems, mental models, and frameworks from the world’s top thinkers; to help you become 1% better and live a happier life ❤️'}, page_content='The Limitless Playbook 🧬SubscribeSign inShare this postThe Limitless Playbook 🧬#105 | The Bagel Method in Relationships 🥯Copy linkFacebookEmailNotesMore#105 | The Bagel Method in Relationships 🥯A collection of the best hidden gems, mental models, and frameworks from the world’s top thinkers; to help you become 1% better and live a happier life ❤️Ryan Ong, Ph.D. 🎮Feb 25, 2024Share this postThe Limitless Playbook 🧬#105 | The Bagel Method in Relationships 🥯Copy linkFacebookEmailNotesMoreShareHello curious minds 🧠I recently finished the book Fight Right: How Successful Couples Turn Conflict into Connection and oh my days, I love every chapter of it!There were many repeating concepts but this time, it was applied in the context of conflicts in relationships. As usual with the Gottman’s books, I highlighted the hell out of the entire book 😄One of the cool exercises in the book was called The Bagel Method.The Bagel Method is designed to help partners be on the same team when dealing with differences and trying to'),\n",
      "                 Document(metadata={'language': 'en', 'source': 'https://ryanocm.substack.com/p/105-the-bagel-method-in-relationships', 'title': '#105 | The Bagel Method in Relationships 🥯', 'description': 'A collection of the best hidden gems, mental models, and frameworks from the world’s top thinkers; to help you become 1% better and live a happier life ❤️'}, page_content=\"find a compromise.The idea behind the method is that, to truly compromise, we need to figure out a way to include both partners’ dreams and core needs; things that are super important to us that giving up on them is too much.Let’s dive into the bagel 😜🚀 If you are new here…Hi, I’m Ryan 👋🏼 I am passionate about lifestyle gamification 🎮 and I am obsesssssssss with learning things that can help me live a happy and fulfilling life.And so, with The Limitless Playbook newsletter, I will share with you 1 actionable idea from the world's top thinkers every Sunday 🎯So visit us weekly for highly actionable insights :)…or even better, subscribe below and have all these information send straight to your inbox every Sunday 🥳Subscribe🥯 The Bagel MethodThe Bagel Method involves mapping out your core needs and areas of flexibility so that you and your partner understand what's important and where there's room for flexibility.It’s called The Bagel Method because, just like a bagel, it has both the inner and outer circles representing your needs.Here are the\")],\n",
      "  'generation': 'The Bagel Method is a relationship strategy designed to help '\n",
      "                'partners navigate differences and find compromises by mapping '\n",
      "                'out their core needs and areas of flexibility. It uses the '\n",
      "                'metaphor of a bagel, with the inner circle representing '\n",
      "                'essential needs and the outer circle representing flexible '\n",
      "                'areas. This approach encourages partners to understand each '\n",
      "                \"other's priorities and work together as a team.\",\n",
      "  'question': \"What's the bagel method?\"}\n",
      "'\\\\n---\\\\n'\n",
      "('The Bagel Method is a relationship strategy designed to help partners '\n",
      " 'navigate differences and find compromises by mapping out their core needs '\n",
      " 'and areas of flexibility. It uses the metaphor of a bagel, with the inner '\n",
      " 'circle representing essential needs and the outer circle representing '\n",
      " \"flexible areas. This approach encourages partners to understand each other's \"\n",
      " 'priorities and work together as a team.')\n"
     ]
    }
   ],
   "source": [
    "from pprint import pprint\n",
    "# Run\n",
    "inputs = {\"question\": \"What's the bagel method?\"}\n",
    "for output in app.stream(inputs):\n",
    "    for key, value in output.items():\n",
    "        # Node\n",
    "        pprint(f\"Node '{key}':\")\n",
    "        # Optional: print full state at each node\n",
    "        pprint(value, indent=2, width=80, depth=None)\n",
    "    pprint(\"\\\\n---\\\\n\")\n",
    "# Final generation\n",
    "pprint(value[\"generation\"])"
   ]
  }
 ],
 "metadata": {
  "kernelspec": {
   "display_name": ".venv",
   "language": "python",
   "name": "python3"
  },
  "language_info": {
   "codemirror_mode": {
    "name": "ipython",
    "version": 3
   },
   "file_extension": ".py",
   "mimetype": "text/x-python",
   "name": "python",
   "nbconvert_exporter": "python",
   "pygments_lexer": "ipython3",
   "version": "3.12.3"
  }
 },
 "nbformat": 4,
 "nbformat_minor": 5
}
